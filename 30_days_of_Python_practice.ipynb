{
 "cells": [
  {
   "cell_type": "code",
   "execution_count": 4,
   "metadata": {},
   "outputs": [
    {
     "name": "stdout",
     "output_type": "stream",
     "text": [
      "give your name:asal\n",
      "give your age20\n",
      "you will be 100 years in  2080\n"
     ]
    }
   ],
   "source": [
    "name= input (\"give your name:\")\n",
    "age= input (\"give your age\")\n",
    "next_age= 2000 - int(age) + 100\n",
    "\n",
    "print (f\"you will be 100 years in \",next_age)"
   ]
  },
  {
   "cell_type": "code",
   "execution_count": 11,
   "metadata": {},
   "outputs": [
    {
     "name": "stdout",
     "output_type": "stream",
     "text": [
      " please enter a number60\n",
      "the number is even and devidable to four\n"
     ]
    }
   ],
   "source": [
    "number= int(input(\" please enter a number\"))\n",
    "if  number%2== 0:\n",
    "    if number%4==0:\n",
    "       print(\"the number is even and devidable to four\")\n",
    "    else:\n",
    "       print (\" the number is even\")\n",
    "else:\n",
    "    print ( \"the number is odd\")\n",
    "    "
   ]
  },
  {
   "cell_type": "code",
   "execution_count": 14,
   "metadata": {},
   "outputs": [
    {
     "name": "stdout",
     "output_type": "stream",
     "text": [
      "1\n",
      "1\n",
      "2\n",
      "3\n",
      "[1, 1, 2, 3]\n"
     ]
    }
   ],
   "source": [
    "a = [1, 1, 2, 3, 5, 8, 13, 21, 34, 55, 89]\n",
    "b=[]\n",
    "for i in a:\n",
    "    if i<5:\n",
    "        print(i)\n",
    "        b.append(i)\n",
    "print (b)\n"
   ]
  },
  {
   "cell_type": "code",
   "execution_count": 31,
   "metadata": {},
   "outputs": [
    {
     "name": "stdout",
     "output_type": "stream",
     "text": [
      "[1, 1, 2, 3]\n"
     ]
    }
   ],
   "source": [
    "a = [1, 1, 2, 3, 5, 8, 13, 21, 34, 55, 89]\n",
    "b=  list(i for i in a if i<5)\n",
    "print(b)"
   ]
  },
  {
   "cell_type": "code",
   "execution_count": 2,
   "metadata": {},
   "outputs": [
    {
     "name": "stdout",
     "output_type": "stream",
     "text": [
      "please input number26\n",
      "1\n",
      "2\n",
      "13\n"
     ]
    }
   ],
   "source": [
    "num= int(input(\"please input number\"))\n",
    "for i in range(1,num):\n",
    "    if num%i==0:\n",
    "        print(i)\n",
    "        "
   ]
  },
  {
   "cell_type": "code",
   "execution_count": 3,
   "metadata": {},
   "outputs": [
    {
     "name": "stdout",
     "output_type": "stream",
     "text": [
      "[82, 11, 17, 34, 79, 15, 48, 64, 78, 27]\n",
      "[67, 61, 50, 11, 91, 18, 28, 23, 39, 17]\n",
      "[17, 11]\n"
     ]
    }
   ],
   "source": [
    "import random\n",
    "randomlist1 = random.sample(range(1, 100), 10)\n",
    "print(randomlist1)\n",
    "randomlist2 = random.sample(range(1, 100), 10)\n",
    "print(randomlist2)\n",
    "\n",
    "common= list(set(randomlist1).intersection(set(randomlist2)))\n",
    "print(common)\n"
   ]
  },
  {
   "cell_type": "code",
   "execution_count": 5,
   "metadata": {},
   "outputs": [
    {
     "name": "stdout",
     "output_type": "stream",
     "text": [
      "please enter a text: asa\n",
      "you rock!\n"
     ]
    }
   ],
   "source": [
    "p= str(input(\"please enter a text: \"))\n",
    "rev= p[::-1]\n",
    "if p==rev:\n",
    "    print(\"you rock!\")\n",
    "else:\n",
    "    print(\"this is not the case\")"
   ]
  },
  {
   "cell_type": "code",
   "execution_count": 7,
   "metadata": {},
   "outputs": [
    {
     "name": "stdout",
     "output_type": "stream",
     "text": [
      "[4, 16, 36, 64, 100]\n"
     ]
    }
   ],
   "source": [
    "a = [1, 4, 9, 16, 25, 36, 49, 64, 81, 100]\n",
    "evens= list(i for i in a if i%2==0)\n",
    "print(evens)"
   ]
  },
  {
   "cell_type": "code",
   "execution_count": 14,
   "metadata": {
    "scrolled": true
   },
   "outputs": [
    {
     "ename": "KeyboardInterrupt",
     "evalue": "Interrupted by user",
     "output_type": "error",
     "traceback": [
      "\u001b[1;31m---------------------------------------------------------------------------\u001b[0m",
      "\u001b[1;31mKeyboardInterrupt\u001b[0m                         Traceback (most recent call last)",
      "\u001b[1;32m<ipython-input-14-e3930e63ea04>\u001b[0m in \u001b[0;36m<module>\u001b[1;34m\u001b[0m\n\u001b[0;32m      3\u001b[0m \u001b[1;32mwhile\u001b[0m \u001b[0manswer\u001b[0m\u001b[1;33m!=\u001b[0m \u001b[1;34m\"no\"\u001b[0m\u001b[1;33m:\u001b[0m\u001b[1;33m\u001b[0m\u001b[1;33m\u001b[0m\u001b[0m\n\u001b[0;32m      4\u001b[0m     \u001b[0mgame_dict\u001b[0m \u001b[1;33m=\u001b[0m \u001b[1;33m{\u001b[0m\u001b[1;34m'rock'\u001b[0m\u001b[1;33m:\u001b[0m \u001b[1;36m1\u001b[0m\u001b[1;33m,\u001b[0m \u001b[1;34m'scissors'\u001b[0m\u001b[1;33m:\u001b[0m \u001b[1;36m2\u001b[0m\u001b[1;33m,\u001b[0m \u001b[1;34m'paper'\u001b[0m\u001b[1;33m:\u001b[0m \u001b[1;36m3\u001b[0m\u001b[1;33m}\u001b[0m\u001b[1;33m\u001b[0m\u001b[1;33m\u001b[0m\u001b[0m\n\u001b[1;32m----> 5\u001b[1;33m     \u001b[0mplayer_1\u001b[0m \u001b[1;33m=\u001b[0m \u001b[0mstr\u001b[0m\u001b[1;33m(\u001b[0m\u001b[0minput\u001b[0m\u001b[1;33m(\u001b[0m\u001b[1;34m\"Player a: \"\u001b[0m\u001b[1;33m)\u001b[0m\u001b[1;33m)\u001b[0m\u001b[1;33m\u001b[0m\u001b[1;33m\u001b[0m\u001b[0m\n\u001b[0m\u001b[0;32m      6\u001b[0m     \u001b[0mplayer_2\u001b[0m \u001b[1;33m=\u001b[0m \u001b[0mstr\u001b[0m\u001b[1;33m(\u001b[0m\u001b[0minput\u001b[0m\u001b[1;33m(\u001b[0m\u001b[1;34m\"Player b: \"\u001b[0m\u001b[1;33m)\u001b[0m\u001b[1;33m)\u001b[0m\u001b[1;33m\u001b[0m\u001b[1;33m\u001b[0m\u001b[0m\n\u001b[0;32m      7\u001b[0m     \u001b[0ma\u001b[0m \u001b[1;33m=\u001b[0m \u001b[0mgame_dict\u001b[0m\u001b[1;33m.\u001b[0m\u001b[0mget\u001b[0m\u001b[1;33m(\u001b[0m\u001b[0mplayer_1\u001b[0m\u001b[1;33m)\u001b[0m\u001b[1;33m\u001b[0m\u001b[1;33m\u001b[0m\u001b[0m\n",
      "\u001b[1;32m~\\anaconda3\\lib\\site-packages\\ipykernel\\kernelbase.py\u001b[0m in \u001b[0;36mraw_input\u001b[1;34m(self, prompt)\u001b[0m\n\u001b[0;32m    858\u001b[0m                 \u001b[1;34m\"raw_input was called, but this frontend does not support input requests.\"\u001b[0m\u001b[1;33m\u001b[0m\u001b[1;33m\u001b[0m\u001b[0m\n\u001b[0;32m    859\u001b[0m             )\n\u001b[1;32m--> 860\u001b[1;33m         return self._input_request(str(prompt),\n\u001b[0m\u001b[0;32m    861\u001b[0m             \u001b[0mself\u001b[0m\u001b[1;33m.\u001b[0m\u001b[0m_parent_ident\u001b[0m\u001b[1;33m,\u001b[0m\u001b[1;33m\u001b[0m\u001b[1;33m\u001b[0m\u001b[0m\n\u001b[0;32m    862\u001b[0m             \u001b[0mself\u001b[0m\u001b[1;33m.\u001b[0m\u001b[0m_parent_header\u001b[0m\u001b[1;33m,\u001b[0m\u001b[1;33m\u001b[0m\u001b[1;33m\u001b[0m\u001b[0m\n",
      "\u001b[1;32m~\\anaconda3\\lib\\site-packages\\ipykernel\\kernelbase.py\u001b[0m in \u001b[0;36m_input_request\u001b[1;34m(self, prompt, ident, parent, password)\u001b[0m\n\u001b[0;32m    902\u001b[0m             \u001b[1;32mexcept\u001b[0m \u001b[0mKeyboardInterrupt\u001b[0m\u001b[1;33m:\u001b[0m\u001b[1;33m\u001b[0m\u001b[1;33m\u001b[0m\u001b[0m\n\u001b[0;32m    903\u001b[0m                 \u001b[1;31m# re-raise KeyboardInterrupt, to truncate traceback\u001b[0m\u001b[1;33m\u001b[0m\u001b[1;33m\u001b[0m\u001b[1;33m\u001b[0m\u001b[0m\n\u001b[1;32m--> 904\u001b[1;33m                 \u001b[1;32mraise\u001b[0m \u001b[0mKeyboardInterrupt\u001b[0m\u001b[1;33m(\u001b[0m\u001b[1;34m\"Interrupted by user\"\u001b[0m\u001b[1;33m)\u001b[0m \u001b[1;32mfrom\u001b[0m \u001b[1;32mNone\u001b[0m\u001b[1;33m\u001b[0m\u001b[1;33m\u001b[0m\u001b[0m\n\u001b[0m\u001b[0;32m    905\u001b[0m             \u001b[1;32mexcept\u001b[0m \u001b[0mException\u001b[0m \u001b[1;32mas\u001b[0m \u001b[0me\u001b[0m\u001b[1;33m:\u001b[0m\u001b[1;33m\u001b[0m\u001b[1;33m\u001b[0m\u001b[0m\n\u001b[0;32m    906\u001b[0m                 \u001b[0mself\u001b[0m\u001b[1;33m.\u001b[0m\u001b[0mlog\u001b[0m\u001b[1;33m.\u001b[0m\u001b[0mwarning\u001b[0m\u001b[1;33m(\u001b[0m\u001b[1;34m\"Invalid Message:\"\u001b[0m\u001b[1;33m,\u001b[0m \u001b[0mexc_info\u001b[0m\u001b[1;33m=\u001b[0m\u001b[1;32mTrue\u001b[0m\u001b[1;33m)\u001b[0m\u001b[1;33m\u001b[0m\u001b[1;33m\u001b[0m\u001b[0m\n",
      "\u001b[1;31mKeyboardInterrupt\u001b[0m: Interrupted by user"
     ]
    }
   ],
   "source": [
    "answer= \"yes\"\n",
    "\n",
    "while answer!= \"no\":\n",
    "    game_dict = {'rock': 1, 'scissors': 2, 'paper': 3}\n",
    "    player_1 = str(input(\"Player a: \"))\n",
    "    player_2 = str(input(\"Player b: \"))\n",
    "    a = game_dict.get(player_1)\n",
    "    b = game_dict.get(player_2)\n",
    "    dif = a - b\n",
    "\n",
    "    if dif ==0:\n",
    "        print(\"that is a tie\")\n",
    "        answer=str(input(\"do you wnat to continue?\"))\n",
    "        if answer == \"no\":\n",
    "            break\n",
    "\n",
    "    if dif in [-1, 2]:\n",
    "        print('player1 a wins.')\n",
    "        answer=str(input(\"do you wnat to continue?\"))\n",
    "        if answer == \"no\":\n",
    "            break\n",
    "\n",
    "    else:\n",
    "        print('player 2 wins')\n",
    "        answer=str(input(\"do you wnat to continue?\"))\n",
    "        if answer == \"no\":\n",
    "            break\n",
    "       "
   ]
  },
  {
   "cell_type": "code",
   "execution_count": 21,
   "metadata": {},
   "outputs": [
    {
     "name": "stdout",
     "output_type": "stream",
     "text": [
      "rand num is: 88\n",
      "please guess a number: 6\n",
      "that is low!\n",
      "please guess a number: 5\n",
      "that is low!\n",
      "please guess a number: 100\n",
      "that is high!\n",
      "please guess a number: 88\n",
      "that is exactly right!\n",
      "you had \f",
      " guess 3\n"
     ]
    },
    {
     "ename": "KeyboardInterrupt",
     "evalue": "Interrupted by user",
     "output_type": "error",
     "traceback": [
      "\u001b[1;31m---------------------------------------------------------------------------\u001b[0m",
      "\u001b[1;31mKeyboardInterrupt\u001b[0m                         Traceback (most recent call last)",
      "\u001b[1;32m<ipython-input-21-c177b4cc6d2d>\u001b[0m in \u001b[0;36m<module>\u001b[1;34m\u001b[0m\n\u001b[0;32m      6\u001b[0m \u001b[1;33m\u001b[0m\u001b[0m\n\u001b[0;32m      7\u001b[0m \u001b[1;32mwhile\u001b[0m \u001b[0mguess_num\u001b[0m \u001b[1;33m!=\u001b[0m \u001b[0mrand_num\u001b[0m \u001b[1;32mor\u001b[0m \u001b[0mguess_num\u001b[0m \u001b[1;33m!=\u001b[0m \u001b[1;34m\"exit\"\u001b[0m\u001b[1;33m:\u001b[0m\u001b[1;33m\u001b[0m\u001b[1;33m\u001b[0m\u001b[0m\n\u001b[1;32m----> 8\u001b[1;33m     \u001b[0mguess_num\u001b[0m\u001b[1;33m=\u001b[0m \u001b[0mint\u001b[0m\u001b[1;33m(\u001b[0m\u001b[0minput\u001b[0m\u001b[1;33m(\u001b[0m\u001b[1;34m\"please guess a number: \"\u001b[0m\u001b[1;33m)\u001b[0m\u001b[1;33m)\u001b[0m\u001b[1;33m\u001b[0m\u001b[1;33m\u001b[0m\u001b[0m\n\u001b[0m\u001b[0;32m      9\u001b[0m \u001b[1;33m\u001b[0m\u001b[0m\n\u001b[0;32m     10\u001b[0m \u001b[1;33m\u001b[0m\u001b[0m\n",
      "\u001b[1;32m~\\anaconda3\\lib\\site-packages\\ipykernel\\kernelbase.py\u001b[0m in \u001b[0;36mraw_input\u001b[1;34m(self, prompt)\u001b[0m\n\u001b[0;32m    858\u001b[0m                 \u001b[1;34m\"raw_input was called, but this frontend does not support input requests.\"\u001b[0m\u001b[1;33m\u001b[0m\u001b[1;33m\u001b[0m\u001b[0m\n\u001b[0;32m    859\u001b[0m             )\n\u001b[1;32m--> 860\u001b[1;33m         return self._input_request(str(prompt),\n\u001b[0m\u001b[0;32m    861\u001b[0m             \u001b[0mself\u001b[0m\u001b[1;33m.\u001b[0m\u001b[0m_parent_ident\u001b[0m\u001b[1;33m,\u001b[0m\u001b[1;33m\u001b[0m\u001b[1;33m\u001b[0m\u001b[0m\n\u001b[0;32m    862\u001b[0m             \u001b[0mself\u001b[0m\u001b[1;33m.\u001b[0m\u001b[0m_parent_header\u001b[0m\u001b[1;33m,\u001b[0m\u001b[1;33m\u001b[0m\u001b[1;33m\u001b[0m\u001b[0m\n",
      "\u001b[1;32m~\\anaconda3\\lib\\site-packages\\ipykernel\\kernelbase.py\u001b[0m in \u001b[0;36m_input_request\u001b[1;34m(self, prompt, ident, parent, password)\u001b[0m\n\u001b[0;32m    902\u001b[0m             \u001b[1;32mexcept\u001b[0m \u001b[0mKeyboardInterrupt\u001b[0m\u001b[1;33m:\u001b[0m\u001b[1;33m\u001b[0m\u001b[1;33m\u001b[0m\u001b[0m\n\u001b[0;32m    903\u001b[0m                 \u001b[1;31m# re-raise KeyboardInterrupt, to truncate traceback\u001b[0m\u001b[1;33m\u001b[0m\u001b[1;33m\u001b[0m\u001b[1;33m\u001b[0m\u001b[0m\n\u001b[1;32m--> 904\u001b[1;33m                 \u001b[1;32mraise\u001b[0m \u001b[0mKeyboardInterrupt\u001b[0m\u001b[1;33m(\u001b[0m\u001b[1;34m\"Interrupted by user\"\u001b[0m\u001b[1;33m)\u001b[0m \u001b[1;32mfrom\u001b[0m \u001b[1;32mNone\u001b[0m\u001b[1;33m\u001b[0m\u001b[1;33m\u001b[0m\u001b[0m\n\u001b[0m\u001b[0;32m    905\u001b[0m             \u001b[1;32mexcept\u001b[0m \u001b[0mException\u001b[0m \u001b[1;32mas\u001b[0m \u001b[0me\u001b[0m\u001b[1;33m:\u001b[0m\u001b[1;33m\u001b[0m\u001b[1;33m\u001b[0m\u001b[0m\n\u001b[0;32m    906\u001b[0m                 \u001b[0mself\u001b[0m\u001b[1;33m.\u001b[0m\u001b[0mlog\u001b[0m\u001b[1;33m.\u001b[0m\u001b[0mwarning\u001b[0m\u001b[1;33m(\u001b[0m\u001b[1;34m\"Invalid Message:\"\u001b[0m\u001b[1;33m,\u001b[0m \u001b[0mexc_info\u001b[0m\u001b[1;33m=\u001b[0m\u001b[1;32mTrue\u001b[0m\u001b[1;33m)\u001b[0m\u001b[1;33m\u001b[0m\u001b[1;33m\u001b[0m\u001b[0m\n",
      "\u001b[1;31mKeyboardInterrupt\u001b[0m: Interrupted by user"
     ]
    }
   ],
   "source": [
    "import random\n",
    "rand_num= random.randint(0,100)\n",
    "print(\"rand num is:\", rand_num)\n",
    "count = 0\n",
    "\n",
    "\n",
    "while guess_num != rand_num or guess_num != \"exit\":\n",
    "    guess_num= int(input(\"please guess a number: \"))\n",
    "\n",
    "    \n",
    "    if guess_num == \"exit\":\n",
    "        break\n",
    "    \n",
    "    if guess_num == rand_num:\n",
    "        print(\"that is exactly right!\")\n",
    "        print(\"you had \\f guess\",count)\n",
    "        \n",
    "    if guess_num > rand_num:\n",
    "        print(\"that is high!\")\n",
    "        count += 1\n",
    "\n",
    "    if guess_num < rand_num:\n",
    "        print(\"that is low!\")\n",
    "        count += 1\n",
    "\n"
   ]
  },
  {
   "cell_type": "code",
   "execution_count": 1,
   "metadata": {},
   "outputs": [
    {
     "name": "stdout",
     "output_type": "stream",
     "text": [
      "[1, 2, 3, 5, 8, 13]\n"
     ]
    }
   ],
   "source": [
    "a = [1, 1, 2, 3, 5, 8, 13, 21, 34, 55, 89]\n",
    "b = [1, 2, 3, 4, 5, 6, 7, 8, 9, 10, 11, 12, 13]\n",
    "double= list(set(a).intersection(set(b)))\n",
    "print(double)\n"
   ]
  },
  {
   "cell_type": "code",
   "execution_count": 6,
   "metadata": {},
   "outputs": [
    {
     "name": "stdout",
     "output_type": "stream",
     "text": [
      "please give a number: 22\n",
      "[2, 11]\n"
     ]
    }
   ],
   "source": [
    "num = int(input(\"please give a number: \"))\n",
    "divisors= list(i for i in range(2,num) if num%i==0)\n",
    "print(divisors)\n",
    "\n",
    "def get_prim(get_num):\n",
    "    if get_num > 1:\n",
    "        if len(divisors)==0:\n",
    "            print(\"this is prime\")\n",
    "        else:\n",
    "            print(\"this is not prime\")\n",
    "    else:\n",
    "        print(\" 1 is prim\")\n",
    "        \n",
    "get_prim(num)\n"
   ]
  },
  {
   "cell_type": "code",
   "execution_count": 31,
   "metadata": {},
   "outputs": [
    {
     "name": "stdout",
     "output_type": "stream",
     "text": [
      "please enter list with comma2,2,3\n",
      "['2', '2', '3']\n",
      "[2, 2, 3]\n"
     ]
    },
    {
     "data": {
      "text/plain": [
       "[2, 3]"
      ]
     },
     "execution_count": 31,
     "metadata": {},
     "output_type": "execute_result"
    }
   ],
   "source": [
    "new_list= input(\"please enter list with comma\")\n",
    "new_input= list((new_list.split(\",\")))\n",
    "print(new_input)\n",
    "a= [int(i) for i in new_input]\n",
    "print(a)\n",
    "\n",
    "def get_list(the_list):\n",
    "    return [the_list[0], the_list[len(the_list)-1]]\n",
    "    \n",
    "get_list(a)\n"
   ]
  },
  {
   "cell_type": "code",
   "execution_count": 6,
   "metadata": {},
   "outputs": [
    {
     "name": "stdout",
     "output_type": "stream",
     "text": [
      "how much fib number do you want?5\n"
     ]
    },
    {
     "data": {
      "text/plain": [
       "[1, 1, 2, 3, 5]"
      ]
     },
     "execution_count": 6,
     "metadata": {},
     "output_type": "execute_result"
    }
   ],
   "source": [
    "new_num= int(input(\"how much fib number do you want?\"))\n",
    "\n",
    "def fibonachy(num):\n",
    "    i=1\n",
    "\n",
    "    if num ==0:\n",
    "        fib=[]\n",
    "    if num==1:\n",
    "        fib=[1]\n",
    "    if num==2:\n",
    "        fib=[1,1]\n",
    "    if num>2:\n",
    "        fib=[1,1]\n",
    "        while i < (num-1):\n",
    "            fib.append(fib[i]+fib[i-1])\n",
    "            i += 1\n",
    "\n",
    "    return fib\n",
    "\n",
    "        \n",
    "fibonachy(new_num)  \n",
    "\n",
    "    \n"
   ]
  },
  {
   "cell_type": "code",
   "execution_count": 11,
   "metadata": {},
   "outputs": [
    {
     "name": "stdout",
     "output_type": "stream",
     "text": [
      "please enter list with comma2,2,2,6,5,4\n",
      "['2', '2', '2', '6', '5', '4']\n"
     ]
    },
    {
     "data": {
      "text/plain": [
       "{'2', '4', '5', '6'}"
      ]
     },
     "execution_count": 11,
     "metadata": {},
     "output_type": "execute_result"
    }
   ],
   "source": [
    "new_list= input(\"please enter list with comma\")\n",
    "new_input= list((new_list.split(\",\")))\n",
    "print(new_input)\n",
    "\n",
    "def remove_dup(the_list): \n",
    "    c=set(the_list)\n",
    "    return c\n",
    "\n",
    "remove_dup(new_input)\n",
    "\n"
   ]
  },
  {
   "cell_type": "code",
   "execution_count": 19,
   "metadata": {},
   "outputs": [
    {
     "name": "stdout",
     "output_type": "stream",
     "text": [
      "please enter list with comma2,2,3,2,3,5\n",
      "['2', '2', '3', '2', '3', '5']\n",
      "['2']\n",
      "['2', '3']\n",
      "['2', '3', '5']\n"
     ]
    },
    {
     "data": {
      "text/plain": [
       "['2', '3', '5']"
      ]
     },
     "execution_count": 19,
     "metadata": {},
     "output_type": "execute_result"
    }
   ],
   "source": [
    "new_list= input(\"please enter list with comma\")\n",
    "new_input= list((new_list.split(\",\")))\n",
    "print(new_input)\n",
    "\n",
    "def remove_dup(the_list): \n",
    "    final=[]\n",
    "    for i in the_list:\n",
    "        if i not in final:\n",
    "            final.append(i)\n",
    "            \n",
    "    return final\n",
    "\n",
    "remove_dup(new_input)\n",
    "        "
   ]
  },
  {
   "cell_type": "code",
   "execution_count": 23,
   "metadata": {},
   "outputs": [
    {
     "name": "stdout",
     "output_type": "stream",
     "text": [
      "please enter a sentencesalam man umadam\n",
      "['salam', 'man', 'umadam']\n",
      "umadam man salam\n"
     ]
    },
    {
     "data": {
      "text/plain": [
       "'umadam man salam'"
      ]
     },
     "execution_count": 23,
     "metadata": {},
     "output_type": "execute_result"
    }
   ],
   "source": [
    "new_string= input(\"please enter a sentence\")\n",
    "\n",
    "def reverse_sent(sent):\n",
    "    res= sent.split()\n",
    "    print(res)\n",
    "    rev= res[::-1]\n",
    "    final_res = \" \".join(rev)\n",
    "    print (final_res)\n",
    "    return final_res\n",
    "\n",
    "reverse_sent(new_string)\n"
   ]
  },
  {
   "cell_type": "code",
   "execution_count": 38,
   "metadata": {},
   "outputs": [
    {
     "ename": "KeyboardInterrupt",
     "evalue": "Interrupted by user",
     "output_type": "error",
     "traceback": [
      "\u001b[1;31m---------------------------------------------------------------------------\u001b[0m",
      "\u001b[1;31mKeyboardInterrupt\u001b[0m                         Traceback (most recent call last)",
      "\u001b[1;32m<ipython-input-38-c3a4ba8b2e92>\u001b[0m in \u001b[0;36m<module>\u001b[1;34m\u001b[0m\n\u001b[0;32m     26\u001b[0m         \u001b[0mprint\u001b[0m\u001b[1;33m(\u001b[0m\u001b[1;34m\"please enter only weak or strong\"\u001b[0m\u001b[1;33m)\u001b[0m\u001b[1;33m\u001b[0m\u001b[1;33m\u001b[0m\u001b[0m\n\u001b[0;32m     27\u001b[0m \u001b[1;33m\u001b[0m\u001b[0m\n\u001b[1;32m---> 28\u001b[1;33m \u001b[0mpassword_creator\u001b[0m\u001b[1;33m(\u001b[0m\u001b[1;33m)\u001b[0m\u001b[1;33m\u001b[0m\u001b[1;33m\u001b[0m\u001b[0m\n\u001b[0m",
      "\u001b[1;32m<ipython-input-38-c3a4ba8b2e92>\u001b[0m in \u001b[0;36mpassword_creator\u001b[1;34m()\u001b[0m\n\u001b[0;32m      4\u001b[0m \u001b[1;32mdef\u001b[0m \u001b[0mpassword_creator\u001b[0m\u001b[1;33m(\u001b[0m\u001b[1;33m)\u001b[0m\u001b[1;33m:\u001b[0m\u001b[1;33m\u001b[0m\u001b[1;33m\u001b[0m\u001b[0m\n\u001b[0;32m      5\u001b[0m \u001b[1;33m\u001b[0m\u001b[0m\n\u001b[1;32m----> 6\u001b[1;33m     \u001b[0mstrength\u001b[0m\u001b[1;33m=\u001b[0m \u001b[0mstr\u001b[0m\u001b[1;33m(\u001b[0m\u001b[0minput\u001b[0m\u001b[1;33m(\u001b[0m\u001b[1;34m\"how should be the strength of your password? weak/strong\"\u001b[0m\u001b[1;33m)\u001b[0m\u001b[1;33m)\u001b[0m\u001b[1;33m\u001b[0m\u001b[1;33m\u001b[0m\u001b[0m\n\u001b[0m\u001b[0;32m      7\u001b[0m \u001b[1;33m\u001b[0m\u001b[0m\n\u001b[0;32m      8\u001b[0m     \u001b[1;32mif\u001b[0m \u001b[0mstrength\u001b[0m \u001b[1;33m==\u001b[0m \u001b[1;34m\"weak\"\u001b[0m\u001b[1;33m:\u001b[0m\u001b[1;33m\u001b[0m\u001b[1;33m\u001b[0m\u001b[0m\n",
      "\u001b[1;32m~\\anaconda3\\lib\\site-packages\\ipykernel\\kernelbase.py\u001b[0m in \u001b[0;36mraw_input\u001b[1;34m(self, prompt)\u001b[0m\n\u001b[0;32m    858\u001b[0m                 \u001b[1;34m\"raw_input was called, but this frontend does not support input requests.\"\u001b[0m\u001b[1;33m\u001b[0m\u001b[1;33m\u001b[0m\u001b[0m\n\u001b[0;32m    859\u001b[0m             )\n\u001b[1;32m--> 860\u001b[1;33m         return self._input_request(str(prompt),\n\u001b[0m\u001b[0;32m    861\u001b[0m             \u001b[0mself\u001b[0m\u001b[1;33m.\u001b[0m\u001b[0m_parent_ident\u001b[0m\u001b[1;33m,\u001b[0m\u001b[1;33m\u001b[0m\u001b[1;33m\u001b[0m\u001b[0m\n\u001b[0;32m    862\u001b[0m             \u001b[0mself\u001b[0m\u001b[1;33m.\u001b[0m\u001b[0m_parent_header\u001b[0m\u001b[1;33m,\u001b[0m\u001b[1;33m\u001b[0m\u001b[1;33m\u001b[0m\u001b[0m\n",
      "\u001b[1;32m~\\anaconda3\\lib\\site-packages\\ipykernel\\kernelbase.py\u001b[0m in \u001b[0;36m_input_request\u001b[1;34m(self, prompt, ident, parent, password)\u001b[0m\n\u001b[0;32m    902\u001b[0m             \u001b[1;32mexcept\u001b[0m \u001b[0mKeyboardInterrupt\u001b[0m\u001b[1;33m:\u001b[0m\u001b[1;33m\u001b[0m\u001b[1;33m\u001b[0m\u001b[0m\n\u001b[0;32m    903\u001b[0m                 \u001b[1;31m# re-raise KeyboardInterrupt, to truncate traceback\u001b[0m\u001b[1;33m\u001b[0m\u001b[1;33m\u001b[0m\u001b[1;33m\u001b[0m\u001b[0m\n\u001b[1;32m--> 904\u001b[1;33m                 \u001b[1;32mraise\u001b[0m \u001b[0mKeyboardInterrupt\u001b[0m\u001b[1;33m(\u001b[0m\u001b[1;34m\"Interrupted by user\"\u001b[0m\u001b[1;33m)\u001b[0m \u001b[1;32mfrom\u001b[0m \u001b[1;32mNone\u001b[0m\u001b[1;33m\u001b[0m\u001b[1;33m\u001b[0m\u001b[0m\n\u001b[0m\u001b[0;32m    905\u001b[0m             \u001b[1;32mexcept\u001b[0m \u001b[0mException\u001b[0m \u001b[1;32mas\u001b[0m \u001b[0me\u001b[0m\u001b[1;33m:\u001b[0m\u001b[1;33m\u001b[0m\u001b[1;33m\u001b[0m\u001b[0m\n\u001b[0;32m    906\u001b[0m                 \u001b[0mself\u001b[0m\u001b[1;33m.\u001b[0m\u001b[0mlog\u001b[0m\u001b[1;33m.\u001b[0m\u001b[0mwarning\u001b[0m\u001b[1;33m(\u001b[0m\u001b[1;34m\"Invalid Message:\"\u001b[0m\u001b[1;33m,\u001b[0m \u001b[0mexc_info\u001b[0m\u001b[1;33m=\u001b[0m\u001b[1;32mTrue\u001b[0m\u001b[1;33m)\u001b[0m\u001b[1;33m\u001b[0m\u001b[1;33m\u001b[0m\u001b[0m\n",
      "\u001b[1;31mKeyboardInterrupt\u001b[0m: Interrupted by user"
     ]
    }
   ],
   "source": [
    "#password creator\n",
    "import random\n",
    "import string\n",
    "def password_creator():\n",
    "    \n",
    "    strength= str(input(\"how should be the strength of your password? weak/strong\"))\n",
    "    \n",
    "    if strength == \"weak\":\n",
    "        password_sample=[\"asal\", \"mask\", \"1234\"]\n",
    "        pass_rand= random.choice(password_sample)\n",
    "        return pass_rand\n",
    "    \n",
    "    if strength == \"strong\":\n",
    "        LETTERS = string.ascii_letters\n",
    "        NUMBERS = string.digits  \n",
    "        PUNCTUATION = string.punctuation\n",
    "        \n",
    "        printable= f'{LETTERS}{NUMBERS}{PUNCTUATION}'\n",
    "        print(printable)\n",
    "        #printable_list= list(printable)\n",
    "        \n",
    "        final_password= \"\".join(random.sample(printable,12))\n",
    "        \n",
    "        return final_password\n",
    "    else:\n",
    "        print(\"please enter only weak or strong\")\n",
    "\n",
    "password_creator()"
   ]
  },
  {
   "cell_type": "code",
   "execution_count": 60,
   "metadata": {},
   "outputs": [
    {
     "name": "stdout",
     "output_type": "stream",
     "text": [
      "utf-8\n",
      "200\n",
      "{'Date': 'Fri, 01 Jan 2021 18:29:53 GMT', 'Server': 'Apache/2.4.18 (Ubuntu)', 'X-Powered-By': 'Express', 'Content-Type': 'text/html; charset=utf-8', 'ETag': 'W/\"6a27-aRLSeP/Bx97BstT19/j/CWmo39U-gzip\"', 'set-cookie': 'connect.sid=s%3ATYf8cHW2p_w9uo_7WpQlx-1dUwXd0TD-.PkiukeFwd6WSdrQGH6zHUOpfeSQr1lKwGXFR8jb%2BIeI; Path=/; Expires=Sun, 31 Jan 2021 18:29:53 GMT; HttpOnly', 'Vary': 'Accept-Encoding', 'Content-Encoding': 'gzip', 'Keep-Alive': 'timeout=5, max=100', 'Connection': 'Keep-Alive', 'Transfer-Encoding': 'chunked'}\n",
      "html\n",
      "head\n",
      "script\n",
      "meta\n",
      "meta\n",
      "meta\n",
      "link\n",
      "link\n",
      "link\n",
      "link\n",
      "link\n",
      "link\n",
      "link\n",
      "link\n",
      "link\n",
      "link\n",
      "link\n",
      "link\n",
      "link\n",
      "link\n",
      "meta\n",
      "meta\n",
      "meta\n",
      "meta\n",
      "meta\n",
      "meta\n",
      "meta\n",
      "link\n",
      "link\n",
      "link\n",
      "meta\n",
      "meta\n",
      "meta\n",
      "meta\n",
      "meta\n",
      "meta\n",
      "meta\n",
      "meta\n",
      "meta\n",
      "link\n",
      "link\n",
      "link\n",
      "link\n",
      "link\n",
      "link\n",
      "link\n",
      "link\n",
      "link\n",
      "script\n",
      "script\n",
      "script\n",
      "title\n",
      "link\n",
      "meta\n",
      "meta\n",
      "meta\n",
      "meta\n",
      "link\n",
      "link\n",
      "script\n",
      "body\n",
      "div\n",
      "div\n",
      "img\n",
      "div\n",
      "div\n",
      "div\n",
      "input\n",
      "input\n",
      "p\n",
      "p\n",
      "div\n",
      "div\n",
      "div\n",
      "div\n",
      "div\n",
      "a\n",
      "img\n",
      "div\n",
      "button\n",
      "span\n",
      "span\n",
      "span\n",
      "span\n",
      "div\n",
      "form\n",
      "div\n",
      "div\n",
      "div\n",
      "select\n",
      "div\n",
      "div\n",
      "ul\n",
      "li\n",
      "a\n",
      "li\n",
      "a\n",
      "li\n",
      "a\n",
      "i\n",
      "li\n",
      "a\n",
      "div\n",
      "ul\n",
      "div\n",
      "div\n",
      "div\n",
      "div\n",
      "h2\n",
      "h4\n",
      "div\n",
      "p\n",
      "form\n",
      "div\n",
      "div\n",
      "div\n",
      "div\n",
      "label\n",
      "select\n",
      "div\n",
      "i\n",
      "input\n",
      "label\n",
      "span\n",
      "button\n",
      "ul\n",
      "div\n",
      "button\n",
      "div\n",
      "a\n",
      "div\n",
      "a\n",
      "div\n",
      "a\n",
      "div\n",
      "a\n",
      "div\n",
      "a\n",
      "div\n",
      "a\n",
      "div\n",
      "a\n",
      "div\n",
      "a\n",
      "div\n",
      "a\n",
      "div\n",
      "div\n",
      "div\n",
      "div\n",
      "div\n",
      "img\n",
      "div\n",
      "div\n",
      "div\n",
      "div\n",
      "footer\n",
      "div\n",
      "div\n",
      "div\n",
      "img\n",
      "div\n",
      "div\n",
      "div\n",
      "p\n",
      "div\n",
      "p\n",
      "form\n",
      "div\n",
      "div\n",
      "input\n",
      "label\n",
      "span\n",
      "button\n",
      "span\n",
      "span\n",
      "div\n",
      "div\n",
      "div\n",
      "a\n",
      "img\n",
      "div\n",
      "p\n",
      "div\n",
      "div\n",
      "a\n",
      "div\n",
      "a\n",
      "span\n",
      "div\n",
      "ul\n",
      "li\n",
      "a\n",
      "li\n",
      "a\n",
      "li\n",
      "a\n",
      "li\n",
      "a\n",
      "li\n",
      "a\n",
      "li\n",
      "a\n",
      "li\n",
      "a\n",
      "hr\n",
      "div\n",
      "div\n",
      "p\n",
      "div\n",
      "div\n",
      "a\n",
      "svg\n",
      "g\n",
      "g\n",
      "path\n",
      "a\n",
      "svg\n",
      "g\n",
      "g\n",
      "path\n",
      "path\n",
      "path\n",
      "path\n",
      "path\n",
      "a\n",
      "svg\n",
      "g\n",
      "g\n",
      "path\n",
      "a\n",
      "svg\n",
      "g\n",
      "g\n",
      "path\n",
      "path\n",
      "circle\n",
      "div\n",
      "a\n",
      "svg\n",
      "g\n",
      "g\n",
      "path\n",
      "a\n",
      "svg\n",
      "path\n",
      "p\n",
      "div\n",
      "div\n",
      "div\n",
      "button\n",
      "i\n",
      "p\n",
      "img\n",
      "a\n",
      "script\n",
      "script\n",
      "script\n"
     ]
    }
   ],
   "source": [
    "import requests\n",
    "from bs4 import BeautifulSoup\n",
    "\n",
    "r= requests.get('https://arya.achareh.ir')\n",
    "\n",
    "print(r.encoding)\n",
    "print (r.status_code)\n",
    "print (r.headers)\n",
    "r_html= r.text\n",
    "\n",
    "soup = BeautifulSoup(r_html)\n",
    "soup.find_all('title', limit=1)\n",
    "\n",
    "for tag in soup.find_all(True):\n",
    "    print(tag.name)\n",
    "\n",
    "\n"
   ]
  },
  {
   "cell_type": "code",
   "execution_count": 98,
   "metadata": {},
   "outputs": [
    {
     "name": "stdout",
     "output_type": "stream",
     "text": [
      "4837\n",
      "please guess a number: 54\n",
      "guess a 4-digit number\n"
     ]
    }
   ],
   "source": [
    "import random\n",
    "\n",
    "\n",
    "def cow_bull(user_guess): \n",
    "    cowbull=[0,0]\n",
    "    \n",
    " \n",
    "\n",
    "    for i in range(len(rand)):\n",
    "        \n",
    "                   \n",
    "        if rand[i]== user_guess[i]:\n",
    "            print(\" you have a cow\")\n",
    "            cowbull[0] +=1\n",
    "                    \n",
    "        if user_guess[i] in rand and rand[i]!= user_guess[i]:\n",
    "            print(\" you have a bull\")\n",
    "            cowbull[1] += 1\n",
    "    return cowbull\n",
    "\n",
    "\n",
    "if __name__==\"__main__\":\n",
    "    playing = True #gotta play the game\n",
    "    rand = str(random.randint(0,9999)) #random 4 digit number\n",
    "    print(rand)\n",
    "    guess_num = 0\n",
    "    \n",
    "    \n",
    "    while playing:\n",
    "        guess= str(input(\"please guess a number: \"))\n",
    "        if len(guess)!= 4:\n",
    "            print(\"guess a 4-digit number\")\n",
    "            break\n",
    "            \n",
    "        if guess == \"exit\":\n",
    "            break\n",
    "        \n",
    "        cowbullcount = cow_bull(guess)\n",
    "        guess_num += 1\n",
    "        \n",
    "        print ( \"you had \" + str( cowbullcount[0]) + \" cow \" + \" and  \" + str( cowbullcount[1]) + \" bull\")\n",
    "        \n",
    "        if cowbullcount[0]== 4:\n",
    "            playing= False\n",
    "            print( \" you won after\" + str(guess_num))\n",
    "            break\n",
    "            \n",
    "        else:\n",
    "            print(\" guess again \")\n",
    "\n",
    "\n"
   ]
  },
  {
   "cell_type": "code",
   "execution_count": 2,
   "metadata": {},
   "outputs": [
    {
     "name": "stdout",
     "output_type": "stream",
     "text": [
      "please give me a num5\n",
      "5\n"
     ]
    }
   ],
   "source": [
    "a= [1,2,3,4,5,6,7]\n",
    "i= int(input(\"please give me a num\"))\n",
    "if i in a:\n",
    "    print (i)\n"
   ]
  },
  {
   "cell_type": "code",
   "execution_count": 5,
   "metadata": {},
   "outputs": [],
   "source": [
    "with open('test.txt', 'a') as open_file:\n",
    "    open_file.write('A string to write')"
   ]
  },
  {
   "cell_type": "code",
   "execution_count": 12,
   "metadata": {},
   "outputs": [
    {
     "name": "stdout",
     "output_type": "stream",
     "text": [
      "{'Darth': 31, 'Luke': 15, 'Lea': 54}\n"
     ]
    }
   ],
   "source": [
    "name_list={}\n",
    "\n",
    "with open('nameslist.txt', 'r') as f:\n",
    "    line = f.readline()\n",
    "    \n",
    "    while line:\n",
    "        line = line.strip()\n",
    "\n",
    "        if line in name_list:\n",
    "            name_list[line] += 1\n",
    "            \n",
    "        else:\n",
    "            name_list[line] = 1    \n",
    "            \n",
    "        line = f.readline()\n",
    "\n",
    "            \n",
    "print(name_list)\n"
   ]
  },
  {
   "cell_type": "code",
   "execution_count": 37,
   "metadata": {},
   "outputs": [
    {
     "name": "stdout",
     "output_type": "stream",
     "text": [
      "[7, 13, 19, 23, 31, 79, 97, 103, 109, 139, 167, 193, 239, 263, 293, 313, 331, 367, 379, 383, 397, 409, 487, 563, 617, 653, 673, 683, 709, 739, 761, 863, 881, 907, 937]\n"
     ]
    }
   ],
   "source": [
    "  \n",
    "prime_num= [] \n",
    "with open('primenumbers.txt') as primefile:\n",
    "    line= primefile.readline()\n",
    "    while line:\n",
    "        prime_num.append(int(line))\n",
    "        line= primefile.readline()\n",
    "\n",
    "dup=[]\n",
    "\n",
    "\n",
    "happy_num= []\n",
    "with open('happynumbers.txt') as happyfile:\n",
    "    line= happyfile.readline()\n",
    "    while line:\n",
    "        happy_num.append(int(line))\n",
    "        line= happyfile.readline()\n",
    "\n",
    "for i in prime_num:\n",
    "    if i in happy_num:\n",
    "        dup.append(i)\n",
    "        \n",
    "print(dup)\n",
    "        \n",
    "        "
   ]
  },
  {
   "cell_type": "code",
   "execution_count": 40,
   "metadata": {},
   "outputs": [
    {
     "name": "stdout",
     "output_type": "stream",
     "text": [
      "[7, 13, 19, 23, 31, 79, 97, 103, 109, 139, 167, 193, 239, 263, 293, 313, 331, 367, 379, 383, 397, 409, 487, 563, 617, 653, 673, 683, 709, 739, 761, 863, 881, 907, 937]\n"
     ]
    }
   ],
   "source": [
    "def find_dup_list(list_name):\n",
    "    list_final= []\n",
    "    with open(list_name) as f:\n",
    "        line= f.readline()\n",
    "        while line:\n",
    "            list_final.append(int(line))\n",
    "            line= f.readline()\n",
    "        return list_final\n",
    "\n",
    "primelist = find_dup_list ('primenumbers.txt')\n",
    "happylist = find_dup_list ('happynumbers.txt')\n",
    "\n",
    "\n",
    "overlap = [ i for i in primelist if i in happylist]\n",
    "\n",
    "print(overlap)"
   ]
  },
  {
   "cell_type": "code",
   "execution_count": null,
   "metadata": {},
   "outputs": [],
   "source": [
    "number= int(input(\"how many?\"))\n",
    "def draw_board(num):\n",
    "    \n",
    "    \n",
    "    "
   ]
  }
 ],
 "metadata": {
  "kernelspec": {
   "display_name": "Python 3",
   "language": "python",
   "name": "python3"
  },
  "language_info": {
   "codemirror_mode": {
    "name": "ipython",
    "version": 3
   },
   "file_extension": ".py",
   "mimetype": "text/x-python",
   "name": "python",
   "nbconvert_exporter": "python",
   "pygments_lexer": "ipython3",
   "version": "3.8.3"
  }
 },
 "nbformat": 4,
 "nbformat_minor": 4
}
